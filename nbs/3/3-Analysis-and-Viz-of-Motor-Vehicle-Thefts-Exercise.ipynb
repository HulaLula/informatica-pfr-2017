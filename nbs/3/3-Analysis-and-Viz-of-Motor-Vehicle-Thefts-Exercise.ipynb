{
 "cells": [
  {
   "cell_type": "markdown",
   "metadata": {},
   "source": [
    "# Analysis of Motor Vehicle Thefts in Chicago\n",
    "\n",
    "The data about motor vehicle thefts in chicago are taken from the [Chicago Data Portal](https://data.cityofchicago.org/Public-Safety/motor-vehicle-theft/7ac4-d9tk)"
   ]
  },
  {
   "cell_type": "code",
   "execution_count": 1,
   "metadata": {
    "collapsed": true
   },
   "outputs": [],
   "source": [
    "import pandas as pd\n",
    "import numpy as np\n",
    "import matplotlib.pyplot as plt\n",
    "\n",
    "%matplotlib inline"
   ]
  },
  {
   "cell_type": "code",
   "execution_count": 2,
   "metadata": {
    "collapsed": true
   },
   "outputs": [],
   "source": [
    "mvt = pd.read_csv('../../data/mvt2015_2017.csv')"
   ]
  },
  {
   "cell_type": "markdown",
   "metadata": {},
   "source": [
    "# Exercise 0\n",
    "Inspect the mvt-data (columns, colum-types, first rows...)\n",
    "\n",
    "- How many entries are there?\n",
    "- How many different `Location Description`s exists?"
   ]
  },
  {
   "cell_type": "code",
   "execution_count": 3,
   "metadata": {
    "collapsed": true
   },
   "outputs": [],
   "source": [
    "# TODO"
   ]
  },
  {
   "cell_type": "markdown",
   "metadata": {},
   "source": [
    "# Exercise 1\n",
    "Draw a histogram to investigate, which locations (`Location Description`) are the **top 10**  theft hot spots horizontally."
   ]
  },
  {
   "cell_type": "markdown",
   "metadata": {},
   "source": [
    "# Exercise 1.1\n",
    "\n",
    "Use `Dataframe/Series.plot` to plot the histogram (barchart) horizontally.\n",
    "\n",
    "Note:<br>\n",
    "`DataFrame.plot.hist()` can only work with numerical x-values. If you don't want to convert the 'Location Descriptions' to a numeric value, you may want to use [`Series.value_counts().plot`](https://pandas.pydata.org/pandas-docs/stable/generated/pandas.Series.value_counts.html) instead."
   ]
  },
  {
   "cell_type": "code",
   "execution_count": 4,
   "metadata": {
    "collapsed": true
   },
   "outputs": [],
   "source": [
    "# TODO"
   ]
  },
  {
   "cell_type": "markdown",
   "metadata": {},
   "source": [
    "# Exercise 1.2\n",
    "\n",
    "Install seaborn:\n",
    "```bash\n",
    "conda install seaborn\n",
    "```\n",
    "\n",
    "Use the [Countplot](http://seaborn.pydata.org/generated/seaborn.countplot.html#seaborn.countplot) to show the frequencies of thefts at the single locations.\n",
    "\n",
    "Plot the top 10 hot spots horizontally.\n",
    "\n",
    "See also [Plotting with categorical data](http://seaborn.pydata.org/tutorial/categorical.html) for further information about how to show categorical data with `seaborn`."
   ]
  },
  {
   "cell_type": "code",
   "execution_count": 5,
   "metadata": {
    "collapsed": true
   },
   "outputs": [],
   "source": [
    "import seaborn as sns\n",
    "# TODO your code goes here"
   ]
  },
  {
   "cell_type": "markdown",
   "metadata": {},
   "source": [
    "# Exercise 2\n",
    "Investigate, at which weekdays/which hour the most thefts happen."
   ]
  },
  {
   "cell_type": "markdown",
   "metadata": {},
   "source": [
    "# Exercise 2.1\n",
    "\n",
    "1. Convert `Date` to `pandas.DateTime`,\n",
    "2. set `Date` as index and\n",
    "3. add a further column `Weekday` (which is the weekday of `Date`), which is an ordered category (`['Monday' , 'Tuesday'...`).<br> \n",
    "Check \n",
    "  - the [Pandas Docs](https://pandas.pydata.org/pandas-docs/stable/categorical.html)\n",
    "  - and the [Advanced Pandas Primer](../2/4-ADVANCED-Primer-Idiomatic%20Pandas.ipynb)\n",
    "on how to convert to an ordered category.\n",
    "\n",
    "**Note:**<br>\n",
    "Defining the weekday as *categorical* is required to get the plots in the further exercises ordered by weekday."
   ]
  },
  {
   "cell_type": "code",
   "execution_count": 6,
   "metadata": {
    "collapsed": true
   },
   "outputs": [],
   "source": [
    "# TODO Date to pandas.DateTime"
   ]
  },
  {
   "cell_type": "code",
   "execution_count": 7,
   "metadata": {
    "collapsed": true
   },
   "outputs": [],
   "source": [
    "# TODO Date as index"
   ]
  },
  {
   "cell_type": "code",
   "execution_count": 8,
   "metadata": {
    "collapsed": true
   },
   "outputs": [],
   "source": [
    "# TODO WeekDay as new ordered categorical column"
   ]
  },
  {
   "cell_type": "markdown",
   "metadata": {},
   "source": [
    "## Exercise 2.2\n",
    "\n",
    "Count the thefts by weekday and<br>\n",
    "make a corresponding histogram (barchart)\n",
    "\n",
    "At which weekday happen the most thefts?"
   ]
  },
  {
   "cell_type": "code",
   "execution_count": 9,
   "metadata": {
    "collapsed": true
   },
   "outputs": [],
   "source": [
    "# TODO group by Weekday"
   ]
  },
  {
   "cell_type": "code",
   "execution_count": 10,
   "metadata": {
    "collapsed": true
   },
   "outputs": [],
   "source": [
    "# Plot group (barh)"
   ]
  },
  {
   "cell_type": "markdown",
   "metadata": {},
   "source": [
    "## Exercise 2.3\n",
    "\n",
    "- Add a further column `Hour` (which is the hour of `Date`) to the `mvt`-dataframe.\n",
    "- make a line-plot - 1 line per weekday - of number of thefts (y-axis) over the Hours (x-axis).<br>\n",
    "  The plot should look similar to:\n",
    "  ![line plot](../images/3-2-mvt-lineplot.png)\n",
    "\n",
    "**Note**<br>\n",
    "To be able to plot without looping, you may want to\n",
    "1. `groupby(['Weekday','Hour'])` and aggregate `size`\n",
    "2. `reset_index` of the aggregate and `pivot` or `unstack`, so that `index` are the 24 `Hour`s, the `column`s are the `Weekday`s and the `values` are the counts.\n",
    "Please check the \n",
    "  - [Pandas pivot Documentation](https://pandas.pydata.org/pandas-docs/stable/generated/pandas.DataFrame.pivot.html) on how `pivot` works or\n",
    "  - [Pandas unstack Documentation](https://pandas.pydata.org/pandas-docs/stable/generated/pandas.DataFrame.unstack.html#pandas.DataFrame.unstack) on how `unstack` works.\n",
    "  \n",
    "  The pivot-table should look similar to:<br>\n",
    "\n",
    "<div>\n",
    "<table border=\"1\">\n",
    "<thead>\n",
    "<tr style=\"text-align: left;\">\n",
    "  <th>Weekday</th>\n",
    "  <th>Monday</th>\n",
    "  <th>Tuesday</th>\n",
    "  <th>Wednesday</th>\n",
    "  <th>Thursday</th>\n",
    "  <th>Friday</th>\n",
    "  <th>Saturday</th>\n",
    "  <th>Sunday</th>\n",
    "</tr>\n",
    "<tr>\n",
    "  <th>Hour</th>\n",
    "  <th></th>\n",
    "  <th></th>\n",
    "  <th></th>\n",
    "  <th></th>\n",
    "  <th></th>\n",
    "  <th></th>\n",
    "  <th></th>\n",
    "</tr>\n",
    "</thead>\n",
    "<tbody>\n",
    "<tr>\n",
    "  <th>0</th>\n",
    "  <td>76</td>\n",
    "  <td>..</td>\n",
    "  <td>..</td>\n",
    "  <td>..</td>\n",
    "  <td>..</td>\n",
    "  <td>..</td>\n",
    "  <td>234</td>\n",
    "</tr>\n",
    "<tr>\n",
    "  <th>1</th>\n",
    "  <td>126</td>\n",
    "  <td>..</td>\n",
    "  <td>..</td>\n",
    "  <td>..</td>\n",
    "  <td>..</td>\n",
    "  <td>..</td>\n",
    "  <td>...</td>\n",
    "</tr>\n",
    "</tbody>\n",
    "</table>\n",
    "</div>"
   ]
  },
  {
   "cell_type": "code",
   "execution_count": 11,
   "metadata": {
    "collapsed": true
   },
   "outputs": [],
   "source": [
    "# TODO add additional column Hour"
   ]
  },
  {
   "cell_type": "code",
   "execution_count": 12,
   "metadata": {
    "collapsed": true
   },
   "outputs": [],
   "source": [
    "# TODO group by Weekday,Hour\n",
    "# TODO reset index\n",
    "# TODO pivot (or unstack)"
   ]
  },
  {
   "cell_type": "code",
   "execution_count": 13,
   "metadata": {
    "collapsed": true
   },
   "outputs": [],
   "source": [
    "# make a line-plot: count over Hour by Weekday(==Groups)"
   ]
  },
  {
   "cell_type": "markdown",
   "metadata": {},
   "source": [
    "## Exercise 2.4\n",
    "Draw a heatmap with [seaborn.heatmap](http://seaborn.pydata.org/generated/seaborn.heatmap.html):<br>\n",
    "x-axis=Hours, y-axis=Weekday, fill=count\n",
    "\n",
    "At which weekday/time are the most thefts committed?"
   ]
  },
  {
   "cell_type": "code",
   "execution_count": 14,
   "metadata": {
    "collapsed": true
   },
   "outputs": [],
   "source": [
    "# TODO"
   ]
  }
 ],
 "metadata": {
  "kernelspec": {
   "display_name": "Python 3",
   "language": "python",
   "name": "python3"
  },
  "language_info": {
   "codemirror_mode": {
    "name": "ipython",
    "version": 3
   },
   "file_extension": ".py",
   "mimetype": "text/x-python",
   "name": "python",
   "nbconvert_exporter": "python",
   "pygments_lexer": "ipython3",
   "version": "3.6.1"
  }
 },
 "nbformat": 4,
 "nbformat_minor": 2
}
