{
 "cells": [
  {
   "cell_type": "markdown",
   "metadata": {
    "collapsed": true
   },
   "source": [
    "# Classification - Decision Tree Primer"
   ]
  },
  {
   "cell_type": "markdown",
   "metadata": {},
   "source": [
    "Classify Iris (flowers) by their sepal/petal width/length to their species: 'setosa' 'versicolor' 'virginica'\n",
    "![Flower](../images/5-1-flowerpartssepal.gif)[Original Image](https://encrypted-tbn0.gstatic.com/images?q=tbn:ANd9GcQBXkpMmJW9A6RAM90hUnz0iwyW_4FHsrPPrsNEePW7Hs_waUDJuw)"
   ]
  },
  {
   "cell_type": "code",
   "execution_count": null,
   "metadata": {},
   "outputs": [],
   "source": [
    "from sklearn.datasets import load_iris\n",
    "from sklearn.tree import DecisionTreeClassifier\n",
    "from plotting_utilities import plot_decision_tree, plot_feature_importances\n",
    "from sklearn.model_selection import train_test_split\n",
    "\n",
    "import matplotlib.pyplot as plt\n",
    "%matplotlib inline\n",
    "\n",
    "iris = load_iris()\n",
    "iris.DESCR.split('\\n')"
   ]
  },
  {
   "cell_type": "code",
   "execution_count": null,
   "metadata": {},
   "outputs": [],
   "source": [
    "# IN: Features aka Predictors\n",
    "print(iris.data.dtype)\n",
    "print(iris.data.shape)\n",
    "\n",
    "print(iris.feature_names)\n",
    "iris.data[:5,:]"
   ]
  },
  {
   "cell_type": "code",
   "execution_count": null,
   "metadata": {},
   "outputs": [],
   "source": [
    "# OUT: Target, here: species\n",
    "print(iris.target.dtype)\n",
    "print(iris.target.shape)\n",
    "\n",
    "print(iris.target_names)\n",
    "iris.target[:5]"
   ]
  },
  {
   "cell_type": "markdown",
   "metadata": {},
   "source": [
    "# Task: Create a Decision Tree\n",
    "to be able to classify an unseen Iris by sepal/petal with into its species: 'setosa' 'versicolor' 'virginica'"
   ]
  },
  {
   "cell_type": "code",
   "execution_count": null,
   "metadata": {},
   "outputs": [],
   "source": [
    "X = iris.data\n",
    "y = iris.target\n",
    "\n",
    "# TODO: Try with and without max_depth (setting also avoids overfitting)\n",
    "# clf = DecisionTreeClassifier().fit(X, y)\n",
    "clf = DecisionTreeClassifier(max_depth = 3).fit(X, y)\n",
    "plot_decision_tree(clf, iris.feature_names, iris.target_names)"
   ]
  },
  {
   "cell_type": "markdown",
   "metadata": {},
   "source": [
    "# Wait, how do I know that the Decision Tree works???\n",
    "\n",
    "A: Split your data into test and train and evaluate with the test data."
   ]
  },
  {
   "cell_type": "code",
   "execution_count": null,
   "metadata": {
    "collapsed": true
   },
   "outputs": [],
   "source": [
    "X_train, X_test, y_train, y_test = train_test_split(iris.data, iris.target, random_state = 3)\n",
    "\n",
    "# Train the classifier only with the trainings data\n",
    "clf = DecisionTreeClassifier().fit(X_train, y_train)"
   ]
  },
  {
   "cell_type": "code",
   "execution_count": null,
   "metadata": {},
   "outputs": [],
   "source": [
    "# predict for the test data and compare with the actual outcome\n",
    "y_pred = clf.predict(X_test)\n",
    "\n",
    "from sklearn.metrics import confusion_matrix\n",
    "\n",
    "print(\" ------ Predicted \")\n",
    "print(\" Actual \")\n",
    "confusion_matrix(y_test, y_pred)"
   ]
  },
  {
   "cell_type": "code",
   "execution_count": null,
   "metadata": {},
   "outputs": [],
   "source": [
    "print('Accuracy of Decision Tree classifier on test set == sum(TP)/sum(): {}'.format((15+11+11)/(15+11+11+1)))\n",
    "print('Accuracy of Decision Tree classifier on test set with \"score\"-function: {:.2f}'\n",
    "     .format(clf.score(X_test, y_test)))"
   ]
  },
  {
   "cell_type": "markdown",
   "metadata": {},
   "source": [
    "## Feature importance\n",
    "TODO: Compare with level in Tree"
   ]
  },
  {
   "cell_type": "code",
   "execution_count": null,
   "metadata": {},
   "outputs": [],
   "source": [
    "plt.figure(figsize=(10,4), dpi=80)\n",
    "plot_feature_importances(clf, iris.feature_names)\n",
    "plt.show()\n",
    "\n",
    "print('Feature names      : {}'.format(iris.feature_names))\n",
    "print('Feature importances: {}'.format(clf.feature_importances_))"
   ]
  }
 ],
 "metadata": {
  "anaconda-cloud": {},
  "kernelspec": {
   "display_name": "Python 3",
   "language": "python",
   "name": "python3"
  },
  "language_info": {
   "codemirror_mode": {
    "name": "ipython",
    "version": 3
   },
   "file_extension": ".py",
   "mimetype": "text/x-python",
   "name": "python",
   "nbconvert_exporter": "python",
   "pygments_lexer": "ipython3",
   "version": "3.6.1"
  }
 },
 "nbformat": 4,
 "nbformat_minor": 2
}
