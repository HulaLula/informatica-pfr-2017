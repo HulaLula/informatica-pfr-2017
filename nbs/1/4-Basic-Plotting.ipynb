{
 "cells": [
  {
   "cell_type": "markdown",
   "metadata": {},
   "source": [
    "# Basic Plotting\n",
    "inspired by [Exploratory Computing with Python]( inspired by https://github.com/mbakker7/exploratory_computing_with_python/blob/master/notebook1_basics_plotting/py_exploratory_comp_1_sol.ipynb)"
   ]
  },
  {
   "cell_type": "code",
   "execution_count": 3,
   "metadata": {
    "collapsed": true
   },
   "outputs": [],
   "source": [
    "import matplotlib.pyplot as plt\n",
    "import numpy as np\n",
    "\n",
    "%matplotlib inline"
   ]
  },
  {
   "cell_type": "code",
   "execution_count": null,
   "metadata": {},
   "outputs": [],
   "source": [
    "plt.plot([1, 2, 1, 2]); # ; to supress text-output"
   ]
  },
  {
   "cell_type": "code",
   "execution_count": null,
   "metadata": {},
   "outputs": [],
   "source": [
    "plt.plot(np.array([1, 2, 1, 2]));"
   ]
  },
  {
   "cell_type": "code",
   "execution_count": null,
   "metadata": {},
   "outputs": [],
   "source": [
    "x = np.linspace(-4, 10, 29)\n",
    "print(x)"
   ]
  },
  {
   "cell_type": "code",
   "execution_count": null,
   "metadata": {},
   "outputs": [],
   "source": [
    "a = 1\n",
    "b = 1\n",
    "c = -6\n",
    "x = np.linspace(-4, 4, 100)\n",
    "y = a * x ** 2 + b * x + c\n",
    "plt.plot(x, y);"
   ]
  },
  {
   "cell_type": "code",
   "execution_count": null,
   "metadata": {},
   "outputs": [],
   "source": [
    "plt.plot([2, 4, 6], [2, 4, 3], '-', linewidth=6, color='red');"
   ]
  },
  {
   "cell_type": "code",
   "execution_count": null,
   "metadata": {},
   "outputs": [],
   "source": [
    "a5 = np.arange(5)\n",
    "plt.plot(a5,a5**3,'ro');"
   ]
  },
  {
   "cell_type": "code",
   "execution_count": null,
   "metadata": {
    "collapsed": true
   },
   "outputs": [],
   "source": [
    "# find out more about supported parameters like 'color', 'linewidth'...\n",
    "plt.plot?"
   ]
  },
  {
   "cell_type": "markdown",
   "metadata": {},
   "source": [
    "### Exercise 1\n",
    "\n",
    "Plot $y=(x+2)(x-3)(x+1)$ for $x$ going from $-5$ to $5$ using a dashed green line. \n",
    "\n",
    "On the same figure, plot a blue circle for every point where $y$ equals zero. Set the size of the circles to 8.\n",
    "\n",
    "Label the axes as 'x-axis' and 'y-axis'. \n",
    "Add the title 'y=(x+2)(x-3)(x+1)'\n",
    "\n",
    "Check out the official [matplotlib documentation](https://matplotlib.org/api/pyplot_api.html#matplotlib.pyplot.plot) and the output of `plt.plot?` for help."
   ]
  },
  {
   "cell_type": "code",
   "execution_count": null,
   "metadata": {
    "collapsed": true
   },
   "outputs": [],
   "source": [
    "# TODO"
   ]
  },
  {
   "cell_type": "markdown",
   "metadata": {},
   "source": [
    "### Exercise 2\n",
    "#### Load Weather (Temperature) Data from Basel and plot them\n",
    "\n",
    "You are provided with 3 data files containing the mean montly temperature of Basel for 1900, 1950, 2000. \n",
    "\n",
    "Year 1900 is already loaded, load also that one for 1950 and 2000.\n",
    "\n",
    "Plot the temperature for each year against the number of the month (starting with 1 for January) all in a single graph. Add a legend by using the function `plt.legend(['line1','line2'])` (of course with more descriptive names).\n",
    "\n",
    "Use `plt.legend?` and the matplotlib documentation to get help if you are stuck."
   ]
  },
  {
   "cell_type": "code",
   "execution_count": 1,
   "metadata": {},
   "outputs": [
    {
     "name": "stdout",
     "output_type": "stream",
     "text": [
      "../../data/homog_mo_BAS-1900.csv  ../../data/homog_mo_BAS.tsv\r\n",
      "../../data/homog_mo_BAS-1950.csv  ../../data/homog_mo_BAS.txt\r\n",
      "../../data/homog_mo_BAS-2000.csv\r\n"
     ]
    }
   ],
   "source": [
    "!ls ../../data/homog_mo*"
   ]
  },
  {
   "cell_type": "code",
   "execution_count": 5,
   "metadata": {},
   "outputs": [
    {
     "name": "stdout",
     "output_type": "stream",
     "text": [
      "Month,Temperature\r\n",
      "1,2.7\r\n",
      "2,3.8\r\n",
      "3,1.8\r\n",
      "4,8.6\r\n"
     ]
    }
   ],
   "source": [
    "!head -n 5 ../../data/homog_mo_BAS-1900.csv"
   ]
  },
  {
   "cell_type": "code",
   "execution_count": 4,
   "metadata": {},
   "outputs": [
    {
     "data": {
      "text/plain": [
       "array([[ 1. ,  2.7],\n",
       "       [ 2. ,  3.8],\n",
       "       [ 3. ,  1.8]])"
      ]
     },
     "execution_count": 4,
     "metadata": {},
     "output_type": "execute_result"
    }
   ],
   "source": [
    "basel_temperatures_1900 = np.genfromtxt('../../data/homog_mo_BAS-1900.csv', delimiter=',', skip_header=1) # Month -> mean Temperature\n",
    "basel_temperatures_1900[:3]"
   ]
  },
  {
   "cell_type": "code",
   "execution_count": null,
   "metadata": {
    "collapsed": true
   },
   "outputs": [],
   "source": [
    "# TODO Plot the temperature for each year against the number of the month ..."
   ]
  },
  {
   "cell_type": "markdown",
   "metadata": {},
   "source": [
    "### Exercise 4, Subplots\n",
    "\n",
    "#### 4.1 Subplot-Command\n",
    "Load the average monthly temperature 1900, 1950, 2000 for Basel. Create one plot with 3 graphs above each other using the subplot command (use `plt.subplot?`). On the top graph, plot the temperature for 1900, next 1950, next 2000. \n",
    "\n",
    "Label the ticks on the horizontal axis as 'jan', 'feb', 'mar', etc., rather than 0,1,2,etc. Use `plt.xticks?` to find out how. Add legends, axes labels."
   ]
  },
  {
   "cell_type": "code",
   "execution_count": null,
   "metadata": {
    "collapsed": true
   },
   "outputs": [],
   "source": [
    "# TODO"
   ]
  },
  {
   "cell_type": "markdown",
   "metadata": {},
   "source": [
    "#### 4.2 Subplot-Command\n",
    "4.1 now with using the subplots command (use `plt.subplots?`, also check `plt.axes?`). On the top graph, plot the temperature for 1900, next 1950, next 2000. \n",
    "\n",
    "Label the ticks on the horizontal axis as 'jan', 'feb', 'mar', etc., rather than 0,1,2,etc. Use `plt.xticks?` to find out how. Add legends, axes labels."
   ]
  },
  {
   "cell_type": "code",
   "execution_count": null,
   "metadata": {
    "collapsed": true
   },
   "outputs": [],
   "source": [
    "# TODO"
   ]
  },
  {
   "cell_type": "markdown",
   "metadata": {},
   "source": [
    "### Exercise 5, Pie Chart\n",
    "\n",
    "At the 2012 London Olympics, the top ten countries with gold medals were<br> \n",
    "`['USA', 'CHN', 'GBR', 'RUS', 'KOR', 'GER', 'FRA', 'ITA', 'HUN', 'AUS', 'OTHER']`. \n",
    "They received  <br>\n",
    "`[46, 38, 29, 24, 13, 11, 11, 8, 8, 7, 107]` gold medals. \n",
    "\n",
    "Make a pie chart (type `plt.pie?` or go to the pie charts in the matplotlib gallery) of the top 10 gold medal winners plus the others at the London Olympics.\n",
    "\n",
    "Take a look in the [Matplotlib Gallery](http://matplotlib.org/gallery.html) for further samples."
   ]
  },
  {
   "cell_type": "code",
   "execution_count": null,
   "metadata": {
    "collapsed": true
   },
   "outputs": [],
   "source": [
    "# TODO"
   ]
  }
 ],
 "metadata": {
  "anaconda-cloud": {},
  "kernelspec": {
   "display_name": "Python 3",
   "language": "python",
   "name": "python3"
  },
  "language_info": {
   "codemirror_mode": {
    "name": "ipython",
    "version": 3
   },
   "file_extension": ".py",
   "mimetype": "text/x-python",
   "name": "python",
   "nbconvert_exporter": "python",
   "pygments_lexer": "ipython3",
   "version": "3.6.1"
  }
 },
 "nbformat": 4,
 "nbformat_minor": 1
}
